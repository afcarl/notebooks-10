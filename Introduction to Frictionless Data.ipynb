{
 "cells": [
  {
   "cell_type": "markdown",
   "metadata": {
    "deletable": true,
    "editable": true
   },
   "source": [
    "# Introduction to Frictionless Data\n",
    "\n",
    "Originally developed for a presentation at [PyWebIL](https://www.meetup.com/PyWeb-IL/events/238288247/) and [HaSadna](http://www.hasadna.org.il) on April 3rd, 2017 in Tel Aviv, Israel. \n",
    "\n",
    "Presented by [Paul Walsh](http://github.com/pwalsh) and [Adam Kariv](http://github.com/akariv), and the slides are [available here](https://hackmd.io/JwUwTAZgHFAmEFoBsICsYEBZQEYEEMAGAZmCwHYcJjVz8IIcBjIA?edit)."
   ]
  },
  {
   "cell_type": "markdown",
   "metadata": {
    "deletable": true,
    "editable": true
   },
   "source": [
    "## Demo: Basics\n",
    "\n",
    "A simple, initial example of loading a data package.\n",
    "\n",
    "This example demonstrates the primary API for reading a Data Package, and getting a stream of data out of each Data Resource it contains."
   ]
  },
  {
   "cell_type": "code",
   "execution_count": 1,
   "metadata": {
    "collapsed": false,
    "deletable": true,
    "editable": true
   },
   "outputs": [],
   "source": [
    "from pprint import pprint\n",
    "import datapackage\n",
    "\n",
    "descriptor = 'data/israel-muni/datapackage.json'\n",
    "\n",
    "dp = datapackage.DataPackage(descriptor)"
   ]
  },
  {
   "cell_type": "code",
   "execution_count": 2,
   "metadata": {
    "collapsed": false,
    "deletable": true,
    "editable": true
   },
   "outputs": [
    {
     "name": "stdout",
     "output_type": "stream",
     "text": [
      "{'resources': [{'data <NEW_IN_V1>': ['budget-tree.csv'],\n",
      "                'name': 'budget-tree',\n",
      "                'path': 'budget-tree.csv',\n",
      "                'schema': {'fields': [{'contraints': {'required': True},\n",
      "                                       'name': 'CODE',\n",
      "                                       'type': 'string'},\n",
      "                                      {'name': 'COMPARABLE', 'type': 'boolean'},\n",
      "                                      {'constraints': {'enum': ['EXPENDITURE',\n",
      "                                                                'REVENUE']},\n",
      "                                       'name': 'DIRECTION',\n",
      "                                       'type': 'string'}]}},\n",
      "               {'data <NEW_IN_V1>': ['tel-aviv-2013.csv'],\n",
      "                'name': 'tel-aviv-2013',\n",
      "                'path': 'tel-aviv-2013.csv',\n",
      "                'schema': {'fields': [{'constraints': {'minLength': 2,\n",
      "                                                       'required': True},\n",
      "                                       'name': 'PARENT',\n",
      "                                       'type': 'string'},\n",
      "                                      {'constraints': {'pattern': '[0-9|]*',\n",
      "                                                       'required': True},\n",
      "                                       'name': 'PARENT SCOPE',\n",
      "                                       'type': 'string'},\n",
      "                                      {'constraints': {'maxLength': 12,\n",
      "                                                       'minLength': 12,\n",
      "                                                       'pattern': '[0-9.]*',\n",
      "                                                       'required': True},\n",
      "                                       'name': 'CODE',\n",
      "                                       'type': 'string'},\n",
      "                                      {'constraints': {'required': True},\n",
      "                                       'name': 'NAME',\n",
      "                                       'type': 'string'},\n",
      "                                      {'name': 'BUDGET', 'type': 'number'},\n",
      "                                      {'name': 'ACTUAL', 'type': 'number'}]},\n",
      "                'year': 2013}],\n",
      " 'title': 'Israel Municipal Budget Data'}\n"
     ]
    }
   ],
   "source": [
    "# The loaded Descriptor\n",
    "pprint(dp.descriptor)"
   ]
  },
  {
   "cell_type": "code",
   "execution_count": 3,
   "metadata": {
    "collapsed": false,
    "deletable": true,
    "editable": true
   },
   "outputs": [
    {
     "name": "stdout",
     "output_type": "stream",
     "text": [
      "(<datapackage.resource.TabularResource object at 0x1106abe10>,\n",
      " <datapackage.resource.TabularResource object at 0x111a6cf28>)\n",
      "{'data <NEW_IN_V1>': ['budget-tree.csv'],\n",
      " 'name': 'budget-tree',\n",
      " 'path': 'budget-tree.csv',\n",
      " 'schema': {'fields': [{'contraints': {'required': True},\n",
      "                        'name': 'CODE',\n",
      "                        'type': 'string'},\n",
      "                       {'name': 'COMPARABLE', 'type': 'boolean'},\n",
      "                       {'constraints': {'enum': ['EXPENDITURE', 'REVENUE']},\n",
      "                        'name': 'DIRECTION',\n",
      "                        'type': 'string'}]}}\n",
      "{'data <NEW_IN_V1>': ['tel-aviv-2013.csv'],\n",
      " 'name': 'tel-aviv-2013',\n",
      " 'path': 'tel-aviv-2013.csv',\n",
      " 'schema': {'fields': [{'constraints': {'minLength': 2, 'required': True},\n",
      "                        'name': 'PARENT',\n",
      "                        'type': 'string'},\n",
      "                       {'constraints': {'pattern': '[0-9|]*', 'required': True},\n",
      "                        'name': 'PARENT SCOPE',\n",
      "                        'type': 'string'},\n",
      "                       {'constraints': {'maxLength': 12,\n",
      "                                        'minLength': 12,\n",
      "                                        'pattern': '[0-9.]*',\n",
      "                                        'required': True},\n",
      "                        'name': 'CODE',\n",
      "                        'type': 'string'},\n",
      "                       {'constraints': {'required': True},\n",
      "                        'name': 'NAME',\n",
      "                        'type': 'string'},\n",
      "                       {'name': 'BUDGET', 'type': 'number'},\n",
      "                       {'name': 'ACTUAL', 'type': 'number'}]},\n",
      " 'year': 2013}\n"
     ]
    }
   ],
   "source": [
    "# The loaded Data Resource objects\n",
    "pprint(dp.resources)\n",
    "\n",
    "for resource in dp.resources:\n",
    "    pprint(resource.descriptor)"
   ]
  },
  {
   "cell_type": "code",
   "execution_count": 4,
   "metadata": {
    "collapsed": false,
    "deletable": true,
    "editable": true
   },
   "outputs": [
    {
     "name": "stdout",
     "output_type": "stream",
     "text": [
      "<generator object TabularResource._iter_from_tabulator at 0x111a84d00>\n"
     ]
    }
   ],
   "source": [
    "# Each resource provides a stream over the data\n",
    "budget_tree = dp.resources[0].iter()\n",
    "pprint(budget_tree)"
   ]
  },
  {
   "cell_type": "code",
   "execution_count": 5,
   "metadata": {
    "collapsed": false,
    "deletable": true,
    "editable": true
   },
   "outputs": [
    {
     "name": "stdout",
     "output_type": "stream",
     "text": [
      "{'ACTUAL': None,\n",
      " 'BUDGET': Decimal('202000'),\n",
      " 'CODE': '1.611112.124',\n",
      " 'NAME': 'החזר הוצאות',\n",
      " 'NAME_AR': '',\n",
      " 'NAME_EN': '',\n",
      " 'NAME_RU': '',\n",
      " 'PARENT': '12',\n",
      " 'PARENT SCOPE': '6111|611|61|6'}\n",
      "{'ACTUAL': None,\n",
      " 'BUDGET': Decimal('4000'),\n",
      " 'CODE': '1.611114.126',\n",
      " 'NAME': 'הבראה',\n",
      " 'NAME_AR': '',\n",
      " 'NAME_EN': '',\n",
      " 'NAME_RU': '',\n",
      " 'PARENT': '14',\n",
      " 'PARENT SCOPE': '6111|611|61|6'}\n",
      "{'ACTUAL': None,\n",
      " 'BUDGET': Decimal('131000'),\n",
      " 'CODE': '1.611115.127',\n",
      " 'NAME': 'השתתפות באחזקת רכב03',\n",
      " 'NAME_AR': '',\n",
      " 'NAME_EN': '',\n",
      " 'NAME_RU': '',\n",
      " 'PARENT': '15',\n",
      " 'PARENT SCOPE': '6111|611|61|6'}\n",
      "{'ACTUAL': None,\n",
      " 'BUDGET': Decimal('15000'),\n",
      " 'CODE': '1.611119.130',\n",
      " 'NAME': 'תשלומים מיוחדים',\n",
      " 'NAME_AR': '',\n",
      " 'NAME_EN': '',\n",
      " 'NAME_RU': '',\n",
      " 'PARENT': '19',\n",
      " 'PARENT SCOPE': '6111|611|61|6'}\n",
      "{'ACTUAL': None,\n",
      " 'BUDGET': Decimal('484000'),\n",
      " 'CODE': '1.611112.181',\n",
      " 'NAME': 'מיסים וביטוח לאומי',\n",
      " 'NAME_AR': '',\n",
      " 'NAME_EN': '',\n",
      " 'NAME_RU': '',\n",
      " 'PARENT': '12',\n",
      " 'PARENT SCOPE': '6111|611|61|6'}\n",
      "{'ACTUAL': None,\n",
      " 'BUDGET': Decimal('606000'),\n",
      " 'CODE': '1.611113.182',\n",
      " 'NAME': 'קופות גמל והשתלמות',\n",
      " 'NAME_AR': '',\n",
      " 'NAME_EN': '',\n",
      " 'NAME_RU': '',\n",
      " 'PARENT': '13',\n",
      " 'PARENT SCOPE': '6111|611|61|6'}\n",
      "{'ACTUAL': None,\n",
      " 'BUDGET': Decimal('3384000'),\n",
      " 'CODE': '1.611113.230',\n",
      " 'NAME': 'ראש העיריה וסגניו07',\n",
      " 'NAME_AR': '',\n",
      " 'NAME_EN': '',\n",
      " 'NAME_RU': '',\n",
      " 'PARENT': '13',\n",
      " 'PARENT SCOPE': '6111|611|61|6'}\n",
      "{'ACTUAL': None,\n",
      " 'BUDGET': Decimal('12000'),\n",
      " 'CODE': '1.611119.463',\n",
      " 'NAME': 'טלפונים',\n",
      " 'NAME_AR': '',\n",
      " 'NAME_EN': '',\n",
      " 'NAME_RU': '',\n",
      " 'PARENT': '19',\n",
      " 'PARENT SCOPE': '6111|611|61|6'}\n",
      "{'ACTUAL': None,\n",
      " 'BUDGET': Decimal('25000'),\n",
      " 'CODE': '1.611114.531',\n",
      " 'NAME': 'אחזקת רכב',\n",
      " 'NAME_AR': '',\n",
      " 'NAME_EN': '',\n",
      " 'NAME_RU': '',\n",
      " 'PARENT': '14',\n",
      " 'PARENT SCOPE': '6111|611|61|6'}\n",
      "{'ACTUAL': None,\n",
      " 'BUDGET': Decimal('270000'),\n",
      " 'CODE': '1.611116.533',\n",
      " 'NAME': 'שכירת רכב',\n",
      " 'NAME_AR': '',\n",
      " 'NAME_EN': '',\n",
      " 'NAME_RU': '',\n",
      " 'PARENT': '16',\n",
      " 'PARENT SCOPE': '6111|611|61|6'}\n"
     ]
    }
   ],
   "source": [
    "# When a Data Resource is a Tabular Data Resource (it has a schema)\n",
    "# Values are cast on iteration\n",
    "tel_aviv_budget = dp.resources[1].iter()\n",
    "\n",
    "for idx, budget_line in enumerate(tel_aviv_budget):\n",
    "    if idx > 9:\n",
    "        break\n",
    "    pprint(budget_line)"
   ]
  },
  {
   "cell_type": "markdown",
   "metadata": {
    "collapsed": true,
    "deletable": true,
    "editable": true
   },
   "source": [
    "# Demo: Core libraries\n",
    "\n",
    "Some demonstration code showing main functionality of core libraries."
   ]
  },
  {
   "cell_type": "code",
   "execution_count": 6,
   "metadata": {
    "collapsed": true,
    "deletable": true,
    "editable": true
   },
   "outputs": [],
   "source": [
    "import datapackage\n",
    "import jsontableschema as tableschema  # name has recently been updated for v1.\n",
    "\n",
    "# TABULAR DATA PACKAGE\n",
    "\n",
    "# read existing TDP\n",
    "# iterate over its resources\n",
    "# show data pre cast / post cast\n",
    "\n",
    "# read and show malformed descriptor\n",
    "# read and show maalformed data (casting error)\n",
    "\n",
    "# create new DP\n",
    "\n",
    "# TABLE SCHEMA\n",
    "\n",
    "# create schema and read it in\n",
    "# inspect schema with headers, unique, etc.\n",
    "# cast one or two example rows against this schema (show errors too)\n",
    "# Infer: have a data file without schema, and infer a schema.\n",
    "# use infered schema to iterate over cast data stream"
   ]
  },
  {
   "cell_type": "markdown",
   "metadata": {
    "collapsed": true,
    "deletable": true,
    "editable": true
   },
   "source": [
    "# Demo: goodtables\n",
    "\n",
    "Some demonstration code showing features of goodtables."
   ]
  },
  {
   "cell_type": "code",
   "execution_count": 7,
   "metadata": {
    "collapsed": false,
    "deletable": true,
    "editable": true
   },
   "outputs": [
    {
     "name": "stdout",
     "output_type": "stream",
     "text": [
      "{'error-count': 7,\n",
      " 'errors': [],\n",
      " 'table-count': 1,\n",
      " 'tables': [{'error-count': 7,\n",
      "             'errors': [{'code': 'blank-header',\n",
      "                         'column-number': 3,\n",
      "                         'message': 'Header in column 3 is blank',\n",
      "                         'row': None,\n",
      "                         'row-number': None},\n",
      "                        {'code': 'duplicate-header',\n",
      "                         'column-number': 4,\n",
      "                         'message': 'Header in column 4 is duplicated to '\n",
      "                                    'header in column(s) 2',\n",
      "                         'row': None,\n",
      "                         'row-number': None},\n",
      "                        {'code': 'missing-value',\n",
      "                         'column-number': 3,\n",
      "                         'message': 'Row 2 has a missing value in column 3',\n",
      "                         'row': ['1', 'english'],\n",
      "                         'row-number': 2},\n",
      "                        {'code': 'missing-value',\n",
      "                         'column-number': 4,\n",
      "                         'message': 'Row 2 has a missing value in column 4',\n",
      "                         'row': ['1', 'english'],\n",
      "                         'row-number': 2},\n",
      "                        {'code': 'duplicate-row',\n",
      "                         'column-number': None,\n",
      "                         'message': 'Row 3 is duplicated to row(s) 2',\n",
      "                         'row': ['1', 'english'],\n",
      "                         'row-number': 3},\n",
      "                        {'code': 'blank-row',\n",
      "                         'column-number': None,\n",
      "                         'message': 'Row 4 is completely blank',\n",
      "                         'row': [],\n",
      "                         'row-number': 4},\n",
      "                        {'code': 'extra-value',\n",
      "                         'column-number': 5,\n",
      "                         'message': 'Row 5 has an extra value in column 5',\n",
      "                         'row': ['2', 'german', '1', '2', '3'],\n",
      "                         'row-number': 5}],\n",
      "             'headers': ['id', 'name', '', 'name'],\n",
      "             'row-count': 5,\n",
      "             'source': 'data/invalid.csv',\n",
      "             'time': 0.004,\n",
      "             'valid': False}],\n",
      " 'time': 0.007,\n",
      " 'valid': False}\n"
     ]
    }
   ],
   "source": [
    "import goodtables\n",
    "\n",
    "inspector = goodtables.Inspector()\n",
    "print(inspector.inspect('data/invalid.csv'))\n",
    "\n",
    "# show what we get when data is valid\n",
    "# get decent sized, more complex data source and inspect\n",
    "# create a simple custom check (range, median, etc) and run again a data file before and after"
   ]
  },
  {
   "cell_type": "markdown",
   "metadata": {
    "collapsed": true,
    "deletable": true,
    "editable": true
   },
   "source": [
    "# Demo: Data Package Pipelines\n",
    "\n",
    "Some demonstration code using Data Package Pipelines."
   ]
  },
  {
   "cell_type": "code",
   "execution_count": null,
   "metadata": {
    "collapsed": true,
    "deletable": true,
    "editable": true
   },
   "outputs": [],
   "source": []
  }
 ],
 "metadata": {
  "kernelspec": {
   "display_name": "Python 3",
   "language": "python",
   "name": "python3"
  },
  "language_info": {
   "codemirror_mode": {
    "name": "ipython",
    "version": 3
   },
   "file_extension": ".py",
   "mimetype": "text/x-python",
   "name": "python",
   "nbconvert_exporter": "python",
   "pygments_lexer": "ipython3",
   "version": "3.6.0"
  }
 },
 "nbformat": 4,
 "nbformat_minor": 2
}
