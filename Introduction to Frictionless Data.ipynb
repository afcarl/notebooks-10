{
 "cells": [
  {
   "cell_type": "markdown",
   "metadata": {
    "deletable": true,
    "editable": true
   },
   "source": [
    "# Introduction to Frictionless Data\n",
    "\n",
    "Originally developed for a presentation at [PyWebIL](https://www.meetup.com/PyWeb-IL/events/238288247/) and [HaSadna](http://www.hasadna.org.il) on April 3rd, 2017 in Tel Aviv, Israel. \n",
    "\n",
    "Presented by [Paul Walsh](http://github.com/pwalsh) and [Adam Kariv](http://github.com/akariv), and the slides are [available here](https://hackmd.io/JwUwTAZgHFAmEFoBsICsYEBZQEYEEMAGAZmCwHYcJjVz8IIcBjIA?edit)."
   ]
  },
  {
   "cell_type": "markdown",
   "metadata": {
    "deletable": true,
    "editable": true
   },
   "source": [
    "## Demo: Basics\n",
    "\n",
    "A simple, initial example of loading a data package.\n",
    "\n",
    "This example demonstrates the primary API for reading a Data Package, and getting a stream of data out of each Data Resource it contains."
   ]
  },
  {
   "cell_type": "code",
   "execution_count": 1,
   "metadata": {
    "collapsed": false,
    "deletable": true,
    "editable": true
   },
   "outputs": [],
   "source": [
    "from pprint import pprint\n",
    "import datapackage\n",
    "\n",
    "descriptor = 'data/israel-muni/datapackage.json'\n",
    "\n",
    "dp = datapackage.DataPackage(descriptor)"
   ]
  },
  {
   "cell_type": "code",
   "execution_count": 2,
   "metadata": {
    "collapsed": false,
    "deletable": true,
    "editable": true
   },
   "outputs": [
    {
     "name": "stdout",
     "output_type": "stream",
     "text": [
      "{'resources': [{'data <NEW_IN_V1: replaces path>': ['budget-tree.csv'],\n",
      "                'name': 'budget-tree',\n",
      "                'path': 'budget-tree.csv',\n",
      "                'schema': {'fields': [{'contraints': {'required': True},\n",
      "                                       'name': 'CODE',\n",
      "                                       'type': 'string'},\n",
      "                                      {'name': 'COMPARABLE', 'type': 'boolean'},\n",
      "                                      {'constraints': {'enum': ['EXPENDITURE',\n",
      "                                                                'REVENUE']},\n",
      "                                       'name': 'DIRECTION',\n",
      "                                       'type': 'string'}]}},\n",
      "               {'data <NEW_IN_V1: replaces path>': ['tel-aviv-2013.csv'],\n",
      "                'name': 'tel-aviv-2013',\n",
      "                'path': 'tel-aviv-2013.csv',\n",
      "                'schema': {'fields': [{'constraints': {'minLength': 2,\n",
      "                                                       'required': True},\n",
      "                                       'name': 'PARENT',\n",
      "                                       'type': 'string'},\n",
      "                                      {'constraints': {'pattern': '[0-9|]*',\n",
      "                                                       'required': True},\n",
      "                                       'name': 'PARENT SCOPE',\n",
      "                                       'type': 'string'},\n",
      "                                      {'constraints': {'maxLength': 12,\n",
      "                                                       'minLength': 12,\n",
      "                                                       'pattern': '[0-9.]*',\n",
      "                                                       'required': True},\n",
      "                                       'name': 'CODE',\n",
      "                                       'type': 'string'},\n",
      "                                      {'constraints': {'required': True},\n",
      "                                       'name': 'NAME',\n",
      "                                       'type': 'string'},\n",
      "                                      {'name': 'BUDGET', 'type': 'number'},\n",
      "                                      {'name': 'ACTUAL', 'type': 'number'}]},\n",
      "                'year': 2013}],\n",
      " 'title': 'Israel Municipal Budget Data'}\n"
     ]
    }
   ],
   "source": [
    "# The loaded Descriptor\n",
    "pprint(dp.descriptor)"
   ]
  },
  {
   "cell_type": "code",
   "execution_count": 3,
   "metadata": {
    "collapsed": false,
    "deletable": true,
    "editable": true
   },
   "outputs": [
    {
     "name": "stdout",
     "output_type": "stream",
     "text": [
      "{'data <NEW_IN_V1: replaces path>': ['budget-tree.csv'],\n",
      " 'name': 'budget-tree',\n",
      " 'path': 'budget-tree.csv',\n",
      " 'schema': {'fields': [{'contraints': {'required': True},\n",
      "                        'name': 'CODE',\n",
      "                        'type': 'string'},\n",
      "                       {'name': 'COMPARABLE', 'type': 'boolean'},\n",
      "                       {'constraints': {'enum': ['EXPENDITURE', 'REVENUE']},\n",
      "                        'name': 'DIRECTION',\n",
      "                        'type': 'string'}]}}\n",
      "{'data <NEW_IN_V1: replaces path>': ['tel-aviv-2013.csv'],\n",
      " 'name': 'tel-aviv-2013',\n",
      " 'path': 'tel-aviv-2013.csv',\n",
      " 'schema': {'fields': [{'constraints': {'minLength': 2, 'required': True},\n",
      "                        'name': 'PARENT',\n",
      "                        'type': 'string'},\n",
      "                       {'constraints': {'pattern': '[0-9|]*', 'required': True},\n",
      "                        'name': 'PARENT SCOPE',\n",
      "                        'type': 'string'},\n",
      "                       {'constraints': {'maxLength': 12,\n",
      "                                        'minLength': 12,\n",
      "                                        'pattern': '[0-9.]*',\n",
      "                                        'required': True},\n",
      "                        'name': 'CODE',\n",
      "                        'type': 'string'},\n",
      "                       {'constraints': {'required': True},\n",
      "                        'name': 'NAME',\n",
      "                        'type': 'string'},\n",
      "                       {'name': 'BUDGET', 'type': 'number'},\n",
      "                       {'name': 'ACTUAL', 'type': 'number'}]},\n",
      " 'year': 2013}\n"
     ]
    }
   ],
   "source": [
    "# The loaded Data Resource objects\n",
    "for resource in dp.resources:\n",
    "    pprint(resource.descriptor)"
   ]
  },
  {
   "cell_type": "code",
   "execution_count": 4,
   "metadata": {
    "collapsed": false,
    "deletable": true,
    "editable": true
   },
   "outputs": [
    {
     "name": "stdout",
     "output_type": "stream",
     "text": [
      "<generator object TabularResource._iter_from_tabulator at 0x1029f5ca8>\n"
     ]
    }
   ],
   "source": [
    "# Each resource provides a stream over the data\n",
    "budget_tree = dp.resources[0].iter()\n",
    "pprint(budget_tree)"
   ]
  },
  {
   "cell_type": "code",
   "execution_count": 5,
   "metadata": {
    "collapsed": false,
    "deletable": true,
    "editable": true
   },
   "outputs": [
    {
     "name": "stdout",
     "output_type": "stream",
     "text": [
      "{'ACTUAL': None,\n",
      " 'BUDGET': Decimal('202000'),\n",
      " 'CODE': '1.611112.124',\n",
      " 'NAME': 'החזר הוצאות',\n",
      " 'NAME_AR': '',\n",
      " 'NAME_EN': '',\n",
      " 'NAME_RU': '',\n",
      " 'PARENT': '12',\n",
      " 'PARENT SCOPE': '6111|611|61|6'}\n",
      "{'ACTUAL': None,\n",
      " 'BUDGET': Decimal('4000'),\n",
      " 'CODE': '1.611114.126',\n",
      " 'NAME': 'הבראה',\n",
      " 'NAME_AR': '',\n",
      " 'NAME_EN': '',\n",
      " 'NAME_RU': '',\n",
      " 'PARENT': '14',\n",
      " 'PARENT SCOPE': '6111|611|61|6'}\n",
      "{'ACTUAL': None,\n",
      " 'BUDGET': Decimal('131000'),\n",
      " 'CODE': '1.611115.127',\n",
      " 'NAME': 'השתתפות באחזקת רכב03',\n",
      " 'NAME_AR': '',\n",
      " 'NAME_EN': '',\n",
      " 'NAME_RU': '',\n",
      " 'PARENT': '15',\n",
      " 'PARENT SCOPE': '6111|611|61|6'}\n",
      "{'ACTUAL': None,\n",
      " 'BUDGET': Decimal('15000'),\n",
      " 'CODE': '1.611119.130',\n",
      " 'NAME': 'תשלומים מיוחדים',\n",
      " 'NAME_AR': '',\n",
      " 'NAME_EN': '',\n",
      " 'NAME_RU': '',\n",
      " 'PARENT': '19',\n",
      " 'PARENT SCOPE': '6111|611|61|6'}\n",
      "{'ACTUAL': None,\n",
      " 'BUDGET': Decimal('484000'),\n",
      " 'CODE': '1.611112.181',\n",
      " 'NAME': 'מיסים וביטוח לאומי',\n",
      " 'NAME_AR': '',\n",
      " 'NAME_EN': '',\n",
      " 'NAME_RU': '',\n",
      " 'PARENT': '12',\n",
      " 'PARENT SCOPE': '6111|611|61|6'}\n"
     ]
    }
   ],
   "source": [
    "# When a Data Resource is a Tabular Data Resource (it has a schema)\n",
    "# Values are cast on iteration\n",
    "tel_aviv_budget = dp.resources[1].iter()\n",
    "\n",
    "for idx, budget_line in enumerate(tel_aviv_budget):\n",
    "    if idx > 4:\n",
    "        break\n",
    "    pprint(budget_line)"
   ]
  },
  {
   "cell_type": "markdown",
   "metadata": {
    "collapsed": true,
    "deletable": true,
    "editable": true
   },
   "source": [
    "# Demo: Core libraries\n",
    "\n",
    "Some demonstration code showing main functionality of core libraries."
   ]
  },
  {
   "cell_type": "code",
   "execution_count": 6,
   "metadata": {
    "collapsed": false,
    "deletable": true,
    "editable": true
   },
   "outputs": [],
   "source": [
    "import io\n",
    "import csv\n",
    "import datapackage\n",
    "import jsontableschema as tableschema  # name has recently been updated for v1."
   ]
  },
  {
   "cell_type": "code",
   "execution_count": 7,
   "metadata": {
    "collapsed": false,
    "deletable": true,
    "editable": true
   },
   "outputs": [
    {
     "name": "stdout",
     "output_type": "stream",
     "text": [
      "{'fields': [{'description': '',\n",
      "             'format': 'default',\n",
      "             'name': 'first_name',\n",
      "             'title': '',\n",
      "             'type': 'string'},\n",
      "            {'description': '',\n",
      "             'format': 'default',\n",
      "             'name': 'last_name',\n",
      "             'title': '',\n",
      "             'type': 'string'},\n",
      "            {'description': '',\n",
      "             'format': 'default',\n",
      "             'name': 'age',\n",
      "             'title': '',\n",
      "             'type': 'integer'},\n",
      "            {'description': '',\n",
      "             'format': 'default',\n",
      "             'name': 'rating',\n",
      "             'title': '',\n",
      "             'type': 'number'},\n",
      "            {'description': '',\n",
      "             'format': 'default',\n",
      "             'name': 'contactable',\n",
      "             'title': '',\n",
      "             'type': 'boolean'},\n",
      "            {'description': '',\n",
      "             'format': 'default',\n",
      "             'name': 'created',\n",
      "             'title': '',\n",
      "             'type': 'date'}]}\n"
     ]
    }
   ],
   "source": [
    "source = 'data/mailing-list/data.csv'\n",
    "# When we just have a source of data, we can still get a schema\n",
    "with io.open(source) as stream:\n",
    "    reader = csv.reader(stream)\n",
    "    headers = next(reader)\n",
    "    values = list(reader)\n",
    "\n",
    "# take a sample of values to feed to the inference engine\n",
    "sample = values[:4]\n",
    "\n",
    "schema = tableschema.infer(headers, sample)\n",
    "\n",
    "# Inference currently only infers \"default\" types\n",
    "# It does not try to infer format yet (coming)\n",
    "pprint(schema)"
   ]
  },
  {
   "cell_type": "code",
   "execution_count": 8,
   "metadata": {
    "collapsed": false,
    "deletable": true,
    "editable": true
   },
   "outputs": [
    {
     "name": "stdout",
     "output_type": "stream",
     "text": [
      "True\n"
     ]
    }
   ],
   "source": [
    "# we can validate any schema\n",
    "pprint(tableschema.validate(schema))"
   ]
  },
  {
   "cell_type": "code",
   "execution_count": 9,
   "metadata": {
    "collapsed": false,
    "deletable": true,
    "editable": true
   },
   "outputs": [
    {
     "name": "stdout",
     "output_type": "stream",
     "text": [
      "\"{} is not of type 'array'\"\n"
     ]
    }
   ],
   "source": [
    "# and catch if a schema is not valid\n",
    "try:\n",
    "    tableschema.validate({\"fields\": {}})\n",
    "except tableschema.exceptions.SchemaValidationError as e:\n",
    "    pprint(e.message)"
   ]
  },
  {
   "cell_type": "code",
   "execution_count": 10,
   "metadata": {
    "collapsed": false,
    "deletable": true,
    "editable": true
   },
   "outputs": [
    {
     "name": "stdout",
     "output_type": "stream",
     "text": [
      "['first_name', 'last_name', 'age', 'rating', 'contactable', 'created']\n",
      "False\n",
      "['Amos', 'Levy', 13, Decimal('2.0'), True, datetime.date(2011, 2, 5)]\n"
     ]
    }
   ],
   "source": [
    "# We get get some helper methods to work we schemas\n",
    "model = tableschema.Schema(schema)\n",
    "\n",
    "pprint(model.headers)\n",
    "pprint(model.has_field('occupation'))\n",
    "pprint(model.cast_row(['Amos', 'Levy', '13', '2.0', 'T', '2011-02-05']))"
   ]
  },
  {
   "cell_type": "code",
   "execution_count": 11,
   "metadata": {
    "collapsed": false,
    "deletable": true,
    "editable": true
   },
   "outputs": [
    {
     "name": "stdout",
     "output_type": "stream",
     "text": [
      "['Jane', 'Roberts', 42, Decimal('4.8'), True, datetime.date(2016, 1, 6)]\n",
      "{'age': 42,\n",
      " 'contactable': True,\n",
      " 'created': datetime.date(2016, 1, 6),\n",
      " 'first_name': 'Jane',\n",
      " 'last_name': 'Roberts',\n",
      " 'rating': Decimal('4.8')}\n"
     ]
    }
   ],
   "source": [
    "# We can iterate over a stream and cast values\n",
    "table = tableschema.Table(source, schema)\n",
    "\n",
    "# unkeyed\n",
    "pprint(next(table.iter()))\n",
    "\n",
    "# keyed\n",
    "pprint(next(table.iter(keyed=True)))"
   ]
  },
  {
   "cell_type": "code",
   "execution_count": 12,
   "metadata": {
    "collapsed": false,
    "deletable": true,
    "editable": true
   },
   "outputs": [
    {
     "name": "stdout",
     "output_type": "stream",
     "text": [
      "{}\n"
     ]
    }
   ],
   "source": [
    "# We saw the basics of handling Data Packages in the first demo.\n",
    "# Now let's use our infered schema, and source data for a new Tabular Data Package\n",
    "\n",
    "tdp = datapackage.DataPackage(schema='tabular')\n",
    "pprint(tdp.descriptor)"
   ]
  },
  {
   "cell_type": "code",
   "execution_count": 13,
   "metadata": {
    "collapsed": false,
    "deletable": true,
    "editable": true
   },
   "outputs": [
    {
     "name": "stdout",
     "output_type": "stream",
     "text": [
      "\"'name' is a required property\"\n"
     ]
    }
   ],
   "source": [
    "# We've just got an empty descriptor, so it is not actually valid\n",
    "try:\n",
    "    tdp.validate()\n",
    "except datapackage.exceptions.ValidationError as e:\n",
    "    pprint(e.message)"
   ]
  },
  {
   "cell_type": "code",
   "execution_count": 14,
   "metadata": {
    "collapsed": false,
    "deletable": true,
    "editable": true
   },
   "outputs": [
    {
     "name": "stdout",
     "output_type": "stream",
     "text": [
      "{'name': 'my-mailing-lists',\n",
      " 'resources': [{'name': 'mailer',\n",
      "                'path': 'data/mailing-list/data.csv',\n",
      "                'schema': {'fields': [{'description': '',\n",
      "                                       'format': 'default',\n",
      "                                       'name': 'first_name',\n",
      "                                       'title': '',\n",
      "                                       'type': 'string'},\n",
      "                                      {'description': '',\n",
      "                                       'format': 'default',\n",
      "                                       'name': 'last_name',\n",
      "                                       'title': '',\n",
      "                                       'type': 'string'},\n",
      "                                      {'description': '',\n",
      "                                       'format': 'default',\n",
      "                                       'name': 'age',\n",
      "                                       'title': '',\n",
      "                                       'type': 'integer'},\n",
      "                                      {'description': '',\n",
      "                                       'format': 'default',\n",
      "                                       'name': 'rating',\n",
      "                                       'title': '',\n",
      "                                       'type': 'number'},\n",
      "                                      {'description': '',\n",
      "                                       'format': 'default',\n",
      "                                       'name': 'contactable',\n",
      "                                       'title': '',\n",
      "                                       'type': 'boolean'},\n",
      "                                      {'description': '',\n",
      "                                       'format': 'default',\n",
      "                                       'name': 'created',\n",
      "                                       'title': '',\n",
      "                                       'type': 'date'}]}}]}\n"
     ]
    }
   ],
   "source": [
    "# Add the minimum for a Tabular Data Resource\n",
    "tdp.descriptor.update({\n",
    "    'name': 'my-mailing-lists',\n",
    "    'resources': [\n",
    "        {\n",
    "            'name': 'mailer',\n",
    "            'path': source,\n",
    "            'schema': schema\n",
    "        }\n",
    "    ]\n",
    "})\n",
    "\n",
    "tdp.validate()\n",
    "pprint(tdp.descriptor)"
   ]
  },
  {
   "cell_type": "code",
   "execution_count": 15,
   "metadata": {
    "collapsed": false
   },
   "outputs": [
    {
     "name": "stdout",
     "output_type": "stream",
     "text": [
      "{'age': 42,\n",
      " 'contactable': True,\n",
      " 'created': datetime.date(2016, 1, 6),\n",
      " 'first_name': 'Jane',\n",
      " 'last_name': 'Roberts',\n",
      " 'rating': Decimal('4.8')}\n",
      "{'age': 64,\n",
      " 'contactable': False,\n",
      " 'created': datetime.date(2010, 2, 4),\n",
      " 'first_name': 'Joe',\n",
      " 'last_name': 'Walsh',\n",
      " 'rating': Decimal('3.0')}\n",
      "{'age': 19,\n",
      " 'contactable': True,\n",
      " 'created': datetime.date(2011, 8, 19),\n",
      " 'first_name': 'Ruby',\n",
      " 'last_name': 'Smith',\n",
      " 'rating': Decimal('5.0')}\n",
      "{'age': 28,\n",
      " 'contactable': True,\n",
      " 'created': datetime.date(2013, 11, 15),\n",
      " 'first_name': 'Peter',\n",
      " 'last_name': 'Harrison',\n",
      " 'rating': Decimal('2.3')}\n",
      "{'age': 31,\n",
      " 'contactable': True,\n",
      " 'created': datetime.date(2008, 7, 28),\n",
      " 'first_name': 'Mary',\n",
      " 'last_name': 'Campbell',\n",
      " 'rating': Decimal('1.9')}\n",
      "{'age': 57,\n",
      " 'contactable': True,\n",
      " 'created': datetime.date(2014, 4, 9),\n",
      " 'first_name': 'Emanuel',\n",
      " 'last_name': 'Webb',\n",
      " 'rating': Decimal('3.9')}\n",
      "{'age': 23,\n",
      " 'contactable': True,\n",
      " 'created': datetime.date(2016, 2, 21),\n",
      " 'first_name': 'Natasha',\n",
      " 'last_name': 'Stocker',\n",
      " 'rating': Decimal('4.6')}\n",
      "{'age': 39,\n",
      " 'contactable': False,\n",
      " 'created': datetime.date(2016, 9, 23),\n",
      " 'first_name': 'Steven',\n",
      " 'last_name': 'Levitt',\n",
      " 'rating': Decimal('4.1')}\n",
      "{'age': 18,\n",
      " 'contactable': True,\n",
      " 'created': datetime.date(2015, 12, 30),\n",
      " 'first_name': 'Emily',\n",
      " 'last_name': 'Dickens',\n",
      " 'rating': Decimal('2.1')}\n",
      "{'age': 26,\n",
      " 'contactable': True,\n",
      " 'created': datetime.date(2013, 1, 1),\n",
      " 'first_name': 'Nathan',\n",
      " 'last_name': 'Stuart',\n",
      " 'rating': Decimal('1.3')}\n",
      "{'age': 36,\n",
      " 'contactable': False,\n",
      " 'created': datetime.date(2012, 5, 19),\n",
      " 'first_name': 'Ginger',\n",
      " 'last_name': 'Baker',\n",
      " 'rating': Decimal('1.8')}\n"
     ]
    }
   ],
   "source": [
    "for line in tdp.resources[0].iter():\n",
    "    pprint(line)"
   ]
  },
  {
   "cell_type": "markdown",
   "metadata": {
    "collapsed": true,
    "deletable": true,
    "editable": true
   },
   "source": [
    "# Demo: goodtables\n",
    "\n",
    "Some demonstration code showing features of goodtables."
   ]
  },
  {
   "cell_type": "code",
   "execution_count": 7,
   "metadata": {
    "collapsed": false,
    "deletable": true,
    "editable": true
   },
   "outputs": [
    {
     "name": "stdout",
     "output_type": "stream",
     "text": [
      "{'error-count': 7,\n",
      " 'errors': [],\n",
      " 'table-count': 1,\n",
      " 'tables': [{'error-count': 7,\n",
      "             'errors': [{'code': 'blank-header',\n",
      "                         'column-number': 3,\n",
      "                         'message': 'Header in column 3 is blank',\n",
      "                         'row': None,\n",
      "                         'row-number': None},\n",
      "                        {'code': 'duplicate-header',\n",
      "                         'column-number': 4,\n",
      "                         'message': 'Header in column 4 is duplicated to '\n",
      "                                    'header in column(s) 2',\n",
      "                         'row': None,\n",
      "                         'row-number': None},\n",
      "                        {'code': 'missing-value',\n",
      "                         'column-number': 3,\n",
      "                         'message': 'Row 2 has a missing value in column 3',\n",
      "                         'row': ['1', 'english'],\n",
      "                         'row-number': 2},\n",
      "                        {'code': 'missing-value',\n",
      "                         'column-number': 4,\n",
      "                         'message': 'Row 2 has a missing value in column 4',\n",
      "                         'row': ['1', 'english'],\n",
      "                         'row-number': 2},\n",
      "                        {'code': 'duplicate-row',\n",
      "                         'column-number': None,\n",
      "                         'message': 'Row 3 is duplicated to row(s) 2',\n",
      "                         'row': ['1', 'english'],\n",
      "                         'row-number': 3},\n",
      "                        {'code': 'blank-row',\n",
      "                         'column-number': None,\n",
      "                         'message': 'Row 4 is completely blank',\n",
      "                         'row': [],\n",
      "                         'row-number': 4},\n",
      "                        {'code': 'extra-value',\n",
      "                         'column-number': 5,\n",
      "                         'message': 'Row 5 has an extra value in column 5',\n",
      "                         'row': ['2', 'german', '1', '2', '3'],\n",
      "                         'row-number': 5}],\n",
      "             'headers': ['id', 'name', '', 'name'],\n",
      "             'row-count': 5,\n",
      "             'source': 'data/invalid.csv',\n",
      "             'time': 0.004,\n",
      "             'valid': False}],\n",
      " 'time': 0.007,\n",
      " 'valid': False}\n"
     ]
    }
   ],
   "source": [
    "import goodtables\n",
    "\n",
    "inspector = goodtables.Inspector()\n",
    "print(inspector.inspect('data/invalid.csv'))\n",
    "\n",
    "# show what we get when data is valid\n",
    "# get decent sized, more complex data source and inspect\n",
    "# create a simple custom check (range, median, etc) and run again a data file before and after"
   ]
  },
  {
   "cell_type": "markdown",
   "metadata": {
    "collapsed": true,
    "deletable": true,
    "editable": true
   },
   "source": [
    "# Demo: Data Package Pipelines\n",
    "\n",
    "Some demonstration code using Data Package Pipelines."
   ]
  },
  {
   "cell_type": "code",
   "execution_count": null,
   "metadata": {
    "collapsed": true,
    "deletable": true,
    "editable": true
   },
   "outputs": [],
   "source": []
  }
 ],
 "metadata": {
  "kernelspec": {
   "display_name": "Python 3",
   "language": "python",
   "name": "python3"
  },
  "language_info": {
   "codemirror_mode": {
    "name": "ipython",
    "version": 3
   },
   "file_extension": ".py",
   "mimetype": "text/x-python",
   "name": "python",
   "nbconvert_exporter": "python",
   "pygments_lexer": "ipython3",
   "version": "3.6.0"
  }
 },
 "nbformat": 4,
 "nbformat_minor": 2
}
