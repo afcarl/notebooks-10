{
 "cells": [
  {
   "cell_type": "markdown",
   "metadata": {},
   "source": [
    "# Introduction to Frictionless Data\n",
    "\n",
    "Originally developed for a presentation at [PyWebIL](https://www.meetup.com/PyWeb-IL/events/238288247/) and [HaSadna](http://www.hasadna.org.il) on April 3rd, 2017 in Tel Aviv, Israel. \n",
    "\n",
    "Presented by [Paul Walsh](http://github.com/pwalsh) and [Adam Kariv](http://github.com/akariv), and the slides are [available here](https://hackmd.io/JwUwTAZgHFAmEFoBsICsYEBZQEYEEMAGAZmCwHYcJjVz8IIcBjIA?edit)."
   ]
  },
  {
   "cell_type": "code",
   "execution_count": 1,
   "metadata": {
    "collapsed": true,
    "deletable": true,
    "editable": true
   },
   "outputs": [],
   "source": [
    "# just for presentation in notebooks\n",
    "from pprint import pprint as print"
   ]
  },
  {
   "cell_type": "markdown",
   "metadata": {
    "deletable": true,
    "editable": true
   },
   "source": [
    "# Demo: Basics\n",
    "\n",
    "A simple, initial example."
   ]
  },
  {
   "cell_type": "code",
   "execution_count": null,
   "metadata": {
    "collapsed": true,
    "deletable": true,
    "editable": true
   },
   "outputs": [],
   "source": [
    "import datapackage\n",
    "\n",
    "# read a descriptor\n",
    "# show metadata\n",
    "# show resource iterator"
   ]
  },
  {
   "cell_type": "markdown",
   "metadata": {
    "collapsed": true,
    "deletable": true,
    "editable": true
   },
   "source": [
    "# Demo: Core libraries\n",
    "\n",
    "Some demonstration code showing main functionality of core libraries."
   ]
  },
  {
   "cell_type": "code",
   "execution_count": 6,
   "metadata": {
    "collapsed": true,
    "deletable": true,
    "editable": true
   },
   "outputs": [],
   "source": [
    "import datapackage\n",
    "import jsontableschema as tableschema  # name has recently been updated for v1.\n",
    "\n",
    "# TABULAR DATA PACKAGE\n",
    "\n",
    "# read existing TDP\n",
    "# iterate over its resources\n",
    "# show data pre cast / post cast\n",
    "\n",
    "# read and show malformed descriptor\n",
    "# read and show maalformed data (casting error)\n",
    "\n",
    "# create new DP\n",
    "\n",
    "# TABLE SCHEMA\n",
    "\n",
    "# create schema and read it in\n",
    "# inspect schema with headers, unique, etc.\n",
    "# cast one or two example rows against this schema (show errors too)\n",
    "# Infer: have a data file without schema, and infer a schema.\n",
    "# use infered schema to iterate over cast data stream"
   ]
  },
  {
   "cell_type": "markdown",
   "metadata": {
    "collapsed": true,
    "deletable": true,
    "editable": true
   },
   "source": [
    "# Demo: goodtables\n",
    "\n",
    "Some demonstration code showing features of goodtables."
   ]
  },
  {
   "cell_type": "code",
   "execution_count": 7,
   "metadata": {
    "collapsed": false,
    "deletable": true,
    "editable": true
   },
   "outputs": [
    {
     "name": "stdout",
     "output_type": "stream",
     "text": [
      "{'error-count': 7,\n",
      " 'errors': [],\n",
      " 'table-count': 1,\n",
      " 'tables': [{'error-count': 7,\n",
      "             'errors': [{'code': 'blank-header',\n",
      "                         'column-number': 3,\n",
      "                         'message': 'Header in column 3 is blank',\n",
      "                         'row': None,\n",
      "                         'row-number': None},\n",
      "                        {'code': 'duplicate-header',\n",
      "                         'column-number': 4,\n",
      "                         'message': 'Header in column 4 is duplicated to '\n",
      "                                    'header in column(s) 2',\n",
      "                         'row': None,\n",
      "                         'row-number': None},\n",
      "                        {'code': 'missing-value',\n",
      "                         'column-number': 3,\n",
      "                         'message': 'Row 2 has a missing value in column 3',\n",
      "                         'row': ['1', 'english'],\n",
      "                         'row-number': 2},\n",
      "                        {'code': 'missing-value',\n",
      "                         'column-number': 4,\n",
      "                         'message': 'Row 2 has a missing value in column 4',\n",
      "                         'row': ['1', 'english'],\n",
      "                         'row-number': 2},\n",
      "                        {'code': 'duplicate-row',\n",
      "                         'column-number': None,\n",
      "                         'message': 'Row 3 is duplicated to row(s) 2',\n",
      "                         'row': ['1', 'english'],\n",
      "                         'row-number': 3},\n",
      "                        {'code': 'blank-row',\n",
      "                         'column-number': None,\n",
      "                         'message': 'Row 4 is completely blank',\n",
      "                         'row': [],\n",
      "                         'row-number': 4},\n",
      "                        {'code': 'extra-value',\n",
      "                         'column-number': 5,\n",
      "                         'message': 'Row 5 has an extra value in column 5',\n",
      "                         'row': ['2', 'german', '1', '2', '3'],\n",
      "                         'row-number': 5}],\n",
      "             'headers': ['id', 'name', '', 'name'],\n",
      "             'row-count': 5,\n",
      "             'source': 'data/invalid.csv',\n",
      "             'time': 0.004,\n",
      "             'valid': False}],\n",
      " 'time': 0.007,\n",
      " 'valid': False}\n"
     ]
    }
   ],
   "source": [
    "import goodtables\n",
    "\n",
    "inspector = goodtables.Inspector()\n",
    "print(inspector.inspect('data/invalid.csv'))\n",
    "\n",
    "# show what we get when data is valid\n",
    "# get decent sized, more complex data source and inspect\n",
    "# create a simple custom check (range, median, etc) and run again a data file before and after"
   ]
  },
  {
   "cell_type": "markdown",
   "metadata": {
    "collapsed": true,
    "deletable": true,
    "editable": true
   },
   "source": [
    "# Demo: Data Package Pipelines\n",
    "\n",
    "Some demonstration code using Data Package Pipelines."
   ]
  },
  {
   "cell_type": "code",
   "execution_count": null,
   "metadata": {
    "collapsed": true,
    "deletable": true,
    "editable": true
   },
   "outputs": [],
   "source": []
  }
 ],
 "metadata": {
  "kernelspec": {
   "display_name": "Python 3",
   "language": "python",
   "name": "python3"
  },
  "language_info": {
   "codemirror_mode": {
    "name": "ipython",
    "version": 3
   },
   "file_extension": ".py",
   "mimetype": "text/x-python",
   "name": "python",
   "nbconvert_exporter": "python",
   "pygments_lexer": "ipython3",
   "version": "3.6.0"
  }
 },
 "nbformat": 4,
 "nbformat_minor": 2
}
