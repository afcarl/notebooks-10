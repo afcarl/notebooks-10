{
 "cells": [
  {
   "cell_type": "markdown",
   "metadata": {
    "deletable": true,
    "editable": true
   },
   "source": [
    "# Introduction to Frictionless Data\n",
    "\n",
    "Originally developed for a presentation at [PyWebIL](https://www.meetup.com/PyWeb-IL/events/238288247/) and [HaSadna](http://www.hasadna.org.il) on April 3rd, 2017 in Tel Aviv, Israel. \n",
    "\n",
    "Presented by [Paul Walsh](http://github.com/pwalsh) and [Adam Kariv](http://github.com/akariv), and the slides are [available here](https://hackmd.io/JwUwTAZgHFAmEFoBsICsYEBZQEYEEMAGAZmCwHYcJjVz8IIcBjIA?edit)."
   ]
  },
  {
   "cell_type": "markdown",
   "metadata": {
    "deletable": true,
    "editable": true
   },
   "source": [
    "## Demo: Basics\n",
    "\n",
    "A simple, initial example of loading a data package.\n",
    "\n",
    "This example demonstrates the primary API for reading a Data Package, and getting a stream of data out of each Data Resource it contains."
   ]
  },
  {
   "cell_type": "code",
   "execution_count": 1,
   "metadata": {
    "collapsed": false,
    "deletable": true,
    "editable": true
   },
   "outputs": [],
   "source": [
    "from pprint import pprint\n",
    "import datapackage\n",
    "\n",
    "descriptor = 'data/israel-muni/datapackage.json'\n",
    "\n",
    "dp = datapackage.DataPackage(descriptor)"
   ]
  },
  {
   "cell_type": "code",
   "execution_count": 2,
   "metadata": {
    "collapsed": false,
    "deletable": true,
    "editable": true
   },
   "outputs": [
    {
     "data": {
      "text/plain": [
       "{'name': 'israel-municipal-budget-data',\n",
       " 'resources': [{'data <NEW_IN_V1: replaces path>': ['budget-tree.csv'],\n",
       "   'name': 'budget-tree',\n",
       "   'path': 'budget-tree.csv',\n",
       "   'schema': {'fields': [{'contraints': {'required': True},\n",
       "      'name': 'CODE',\n",
       "      'type': 'string'},\n",
       "     {'name': 'PARENT', 'type': 'string'},\n",
       "     {'name': 'PARENT SCOPE', 'type': 'string'},\n",
       "     {'constraints': {'enum': ['EXPENDITURE', 'REVENUE']},\n",
       "      'name': 'DIRECTION',\n",
       "      'type': 'string'},\n",
       "     {'name': 'INVERSE', 'type': 'string'},\n",
       "     {'name': 'INVERSE SCOPE', 'type': 'string'},\n",
       "     {'name': 'COMPARABLE', 'type': 'boolean'},\n",
       "     {'name': 'NAME', 'type': 'string'},\n",
       "     {'name': 'NAME_EN', 'type': 'string'},\n",
       "     {'name': 'NAME_RU', 'type': 'string'},\n",
       "     {'name': 'NAME_AR', 'type': 'string'},\n",
       "     {'name': 'DESCRIPTION', 'type': 'string'},\n",
       "     {'name': 'DESCRIPTION_EN', 'type': 'string'},\n",
       "     {'name': 'DESCRIPTION_RU', 'type': 'string'},\n",
       "     {'name': 'DESCRIPTION_AR', 'type': 'string'}]}},\n",
       "  {'data <NEW_IN_V1: replaces path>': ['tel-aviv-2013.csv'],\n",
       "   'name': 'tel-aviv-2013',\n",
       "   'path': 'tel-aviv-2013.csv',\n",
       "   'schema': {'fields': [{'constraints': {'minLength': 2, 'required': True},\n",
       "      'name': 'PARENT',\n",
       "      'type': 'string'},\n",
       "     {'constraints': {'pattern': '[0-9|]*', 'required': True},\n",
       "      'name': 'PARENT SCOPE',\n",
       "      'type': 'string'},\n",
       "     {'constraints': {'maxLength': 12,\n",
       "       'minLength': 12,\n",
       "       'pattern': '[0-9.]*',\n",
       "       'required': True},\n",
       "      'name': 'CODE',\n",
       "      'type': 'string'},\n",
       "     {'constraints': {'required': True}, 'name': 'NAME', 'type': 'string'},\n",
       "     {'name': 'NAME_EN', 'type': 'string'},\n",
       "     {'name': 'NAME_RU', 'type': 'string'},\n",
       "     {'name': 'NAME_AR', 'type': 'string'},\n",
       "     {'name': 'BUDGET', 'type': 'number'},\n",
       "     {'name': 'ACTUAL', 'type': 'number'}]},\n",
       "   'year': 2013}],\n",
       " 'title': 'Israel Municipal Budget Data'}"
      ]
     },
     "execution_count": 2,
     "metadata": {},
     "output_type": "execute_result"
    }
   ],
   "source": [
    "# The loaded Descriptor\n",
    "dp.descriptor"
   ]
  },
  {
   "cell_type": "code",
   "execution_count": 3,
   "metadata": {
    "collapsed": false,
    "deletable": true,
    "editable": true
   },
   "outputs": [
    {
     "data": {
      "text/plain": [
       "(<datapackage.resource.TabularResource at 0x108b0ab70>,\n",
       " <datapackage.resource.TabularResource at 0x108b28780>)"
      ]
     },
     "execution_count": 3,
     "metadata": {},
     "output_type": "execute_result"
    }
   ],
   "source": [
    "# The loaded Data Resource objects\n",
    "dp.resources"
   ]
  },
  {
   "cell_type": "code",
   "execution_count": 4,
   "metadata": {
    "collapsed": false,
    "deletable": true,
    "editable": true
   },
   "outputs": [
    {
     "data": {
      "text/plain": [
       "<generator object TabularResource._iter_from_tabulator at 0x10922fb48>"
      ]
     },
     "execution_count": 4,
     "metadata": {},
     "output_type": "execute_result"
    }
   ],
   "source": [
    "# Each resource provides a stream over the data\n",
    "israel_muni_budget_tree = dp.resources[0].iter()\n",
    "\n",
    "israel_muni_budget_tree"
   ]
  },
  {
   "cell_type": "code",
   "execution_count": 5,
   "metadata": {
    "collapsed": false,
    "deletable": true,
    "editable": true
   },
   "outputs": [
    {
     "data": {
      "text/plain": [
       "{'ACTUAL': None,\n",
       " 'BUDGET': Decimal('202000'),\n",
       " 'CODE': '1.611112.124',\n",
       " 'NAME': 'החזר הוצאות',\n",
       " 'NAME_AR': '',\n",
       " 'NAME_EN': '',\n",
       " 'NAME_RU': '',\n",
       " 'PARENT': '12',\n",
       " 'PARENT SCOPE': '6111|611|61|6'}"
      ]
     },
     "execution_count": 5,
     "metadata": {},
     "output_type": "execute_result"
    }
   ],
   "source": [
    "# When a Data Resource is a Tabular Data Resource\n",
    "# Values from the CSV are cast on iteration\n",
    "tel_aviv_budget = dp.resources[1].iter()\n",
    "\n",
    "next(tel_aviv_budget)"
   ]
  },
  {
   "cell_type": "markdown",
   "metadata": {
    "collapsed": true,
    "deletable": true,
    "editable": true
   },
   "source": [
    "# Demo: Core libraries\n",
    "\n",
    "Some demonstration code showing main functionality of core libraries."
   ]
  },
  {
   "cell_type": "code",
   "execution_count": 6,
   "metadata": {
    "collapsed": false,
    "deletable": true,
    "editable": true
   },
   "outputs": [],
   "source": [
    "import io\n",
    "import csv\n",
    "import datapackage\n",
    "import jsontableschema as tableschema  # name has recently been updated for v1."
   ]
  },
  {
   "cell_type": "code",
   "execution_count": 7,
   "metadata": {
    "collapsed": false,
    "deletable": true,
    "editable": true
   },
   "outputs": [
    {
     "data": {
      "text/plain": [
       "{'fields': [{'description': '',\n",
       "   'format': 'default',\n",
       "   'name': 'first_name',\n",
       "   'title': '',\n",
       "   'type': 'string'},\n",
       "  {'description': '',\n",
       "   'format': 'default',\n",
       "   'name': 'last_name',\n",
       "   'title': '',\n",
       "   'type': 'string'},\n",
       "  {'description': '',\n",
       "   'format': 'default',\n",
       "   'name': 'age',\n",
       "   'title': '',\n",
       "   'type': 'integer'},\n",
       "  {'description': '',\n",
       "   'format': 'default',\n",
       "   'name': 'rating',\n",
       "   'title': '',\n",
       "   'type': 'number'},\n",
       "  {'description': '',\n",
       "   'format': 'default',\n",
       "   'name': 'contactable',\n",
       "   'title': '',\n",
       "   'type': 'boolean'},\n",
       "  {'description': '',\n",
       "   'format': 'default',\n",
       "   'name': 'created',\n",
       "   'title': '',\n",
       "   'type': 'date'}]}"
      ]
     },
     "execution_count": 7,
     "metadata": {},
     "output_type": "execute_result"
    }
   ],
   "source": [
    "source = 'data/mailing-list/data.csv'\n",
    "# When we just have a source of data, we can still get a schema\n",
    "with io.open(source) as stream:\n",
    "    reader = csv.reader(stream)\n",
    "    headers = next(reader)\n",
    "    values = list(reader)\n",
    "\n",
    "# take a sample of values to feed to the inference engine\n",
    "sample = values[:4]\n",
    "\n",
    "schema = tableschema.infer(headers, sample)\n",
    "\n",
    "# Inference currently only infers \"default\" types\n",
    "# It does not try to infer format yet (coming)\n",
    "schema"
   ]
  },
  {
   "cell_type": "code",
   "execution_count": 8,
   "metadata": {
    "collapsed": false,
    "deletable": true,
    "editable": true
   },
   "outputs": [
    {
     "data": {
      "text/plain": [
       "True"
      ]
     },
     "execution_count": 8,
     "metadata": {},
     "output_type": "execute_result"
    }
   ],
   "source": [
    "# we can validate any schema\n",
    "tableschema.validate(schema)"
   ]
  },
  {
   "cell_type": "code",
   "execution_count": 9,
   "metadata": {
    "collapsed": false,
    "deletable": true,
    "editable": true
   },
   "outputs": [
    {
     "data": {
      "text/plain": [
       "\"{} is not of type 'array'\""
      ]
     },
     "execution_count": 9,
     "metadata": {},
     "output_type": "execute_result"
    }
   ],
   "source": [
    "# and catch if a schema is not valid\n",
    "try:\n",
    "    tableschema.validate({\"fields\": {}})\n",
    "except tableschema.exceptions.SchemaValidationError as e:\n",
    "    msg = e.message\n",
    "\n",
    "msg"
   ]
  },
  {
   "cell_type": "code",
   "execution_count": 10,
   "metadata": {
    "collapsed": false,
    "deletable": true,
    "editable": true
   },
   "outputs": [],
   "source": [
    "# We get get some helper methods to work we schemas\n",
    "model = tableschema.Schema(schema)"
   ]
  },
  {
   "cell_type": "code",
   "execution_count": 11,
   "metadata": {
    "collapsed": false,
    "deletable": true,
    "editable": true
   },
   "outputs": [
    {
     "data": {
      "text/plain": [
       "['first_name', 'last_name', 'age', 'rating', 'contactable', 'created']"
      ]
     },
     "execution_count": 11,
     "metadata": {},
     "output_type": "execute_result"
    }
   ],
   "source": [
    "model.headers"
   ]
  },
  {
   "cell_type": "code",
   "execution_count": 12,
   "metadata": {
    "collapsed": false,
    "deletable": true,
    "editable": true
   },
   "outputs": [
    {
     "data": {
      "text/plain": [
       "False"
      ]
     },
     "execution_count": 12,
     "metadata": {},
     "output_type": "execute_result"
    }
   ],
   "source": [
    "model.has_field('occupation')"
   ]
  },
  {
   "cell_type": "code",
   "execution_count": 13,
   "metadata": {
    "collapsed": false,
    "deletable": true,
    "editable": true
   },
   "outputs": [
    {
     "data": {
      "text/plain": [
       "['Amos', 'Levy', 13, Decimal('2.0'), True, datetime.date(2011, 2, 5)]"
      ]
     },
     "execution_count": 13,
     "metadata": {},
     "output_type": "execute_result"
    }
   ],
   "source": [
    "model.cast_row(['Amos', 'Levy', '13', '2.0', 'T', '2011-02-05'])"
   ]
  },
  {
   "cell_type": "code",
   "execution_count": 14,
   "metadata": {
    "collapsed": false,
    "deletable": true,
    "editable": true
   },
   "outputs": [],
   "source": [
    "# We can iterate over a stream and cast values\n",
    "table = tableschema.Table(source, schema)"
   ]
  },
  {
   "cell_type": "code",
   "execution_count": 15,
   "metadata": {
    "collapsed": false,
    "deletable": true,
    "editable": true
   },
   "outputs": [
    {
     "data": {
      "text/plain": [
       "['Jane', 'Roberts', 42, Decimal('4.8'), True, datetime.date(2016, 1, 6)]"
      ]
     },
     "execution_count": 15,
     "metadata": {},
     "output_type": "execute_result"
    }
   ],
   "source": [
    "next(table.iter())"
   ]
  },
  {
   "cell_type": "code",
   "execution_count": 16,
   "metadata": {
    "collapsed": false,
    "deletable": true,
    "editable": true
   },
   "outputs": [
    {
     "data": {
      "text/plain": [
       "{'age': 42,\n",
       " 'contactable': True,\n",
       " 'created': datetime.date(2016, 1, 6),\n",
       " 'first_name': 'Jane',\n",
       " 'last_name': 'Roberts',\n",
       " 'rating': Decimal('4.8')}"
      ]
     },
     "execution_count": 16,
     "metadata": {},
     "output_type": "execute_result"
    }
   ],
   "source": [
    "next(table.iter(keyed=True))"
   ]
  },
  {
   "cell_type": "code",
   "execution_count": 17,
   "metadata": {
    "collapsed": false,
    "deletable": true,
    "editable": true
   },
   "outputs": [
    {
     "data": {
      "text/plain": [
       "{}"
      ]
     },
     "execution_count": 17,
     "metadata": {},
     "output_type": "execute_result"
    }
   ],
   "source": [
    "# We saw the basics of handling Data Packages in the first demo.\n",
    "# Now let's use our infered schema, and source data for a new Tabular Data Package\n",
    "\n",
    "tdp = datapackage.DataPackage(schema='tabular')\n",
    "tdp.descriptor"
   ]
  },
  {
   "cell_type": "code",
   "execution_count": 18,
   "metadata": {
    "collapsed": false,
    "deletable": true,
    "editable": true
   },
   "outputs": [
    {
     "data": {
      "text/plain": [
       "\"'name' is a required property\""
      ]
     },
     "execution_count": 18,
     "metadata": {},
     "output_type": "execute_result"
    }
   ],
   "source": [
    "# We've just got an empty descriptor, so it is not actually valid\n",
    "try:\n",
    "    tdp.validate()\n",
    "except datapackage.exceptions.ValidationError as e:\n",
    "    msg = e.message\n",
    "\n",
    "msg"
   ]
  },
  {
   "cell_type": "code",
   "execution_count": 19,
   "metadata": {
    "collapsed": false,
    "deletable": true,
    "editable": true
   },
   "outputs": [
    {
     "data": {
      "text/plain": [
       "{'name': 'my-mailing-lists',\n",
       " 'resources': [{'name': 'mailer',\n",
       "   'path': 'data/mailing-list/data.csv',\n",
       "   'schema': {'fields': [{'description': '',\n",
       "      'format': 'default',\n",
       "      'name': 'first_name',\n",
       "      'title': '',\n",
       "      'type': 'string'},\n",
       "     {'description': '',\n",
       "      'format': 'default',\n",
       "      'name': 'last_name',\n",
       "      'title': '',\n",
       "      'type': 'string'},\n",
       "     {'description': '',\n",
       "      'format': 'default',\n",
       "      'name': 'age',\n",
       "      'title': '',\n",
       "      'type': 'integer'},\n",
       "     {'description': '',\n",
       "      'format': 'default',\n",
       "      'name': 'rating',\n",
       "      'title': '',\n",
       "      'type': 'number'},\n",
       "     {'description': '',\n",
       "      'format': 'default',\n",
       "      'name': 'contactable',\n",
       "      'title': '',\n",
       "      'type': 'boolean'},\n",
       "     {'description': '',\n",
       "      'format': 'default',\n",
       "      'name': 'created',\n",
       "      'title': '',\n",
       "      'type': 'date'}]}}]}"
      ]
     },
     "execution_count": 19,
     "metadata": {},
     "output_type": "execute_result"
    }
   ],
   "source": [
    "# Add the minimum for a Tabular Data Resource\n",
    "tdp.descriptor.update({\n",
    "    'name': 'my-mailing-lists',\n",
    "    'resources': [\n",
    "        {\n",
    "            'name': 'mailer',\n",
    "            'path': source,\n",
    "            'schema': schema\n",
    "        }\n",
    "    ]\n",
    "})\n",
    "\n",
    "tdp.validate()\n",
    "tdp.descriptor"
   ]
  },
  {
   "cell_type": "code",
   "execution_count": 20,
   "metadata": {
    "collapsed": false,
    "deletable": true,
    "editable": true
   },
   "outputs": [
    {
     "data": {
      "text/plain": [
       "{'age': 42,\n",
       " 'contactable': True,\n",
       " 'created': datetime.date(2016, 1, 6),\n",
       " 'first_name': 'Jane',\n",
       " 'last_name': 'Roberts',\n",
       " 'rating': Decimal('4.8')}"
      ]
     },
     "execution_count": 20,
     "metadata": {},
     "output_type": "execute_result"
    }
   ],
   "source": [
    "next(tdp.resources[0].iter())"
   ]
  },
  {
   "cell_type": "markdown",
   "metadata": {
    "collapsed": true,
    "deletable": true,
    "editable": true
   },
   "source": [
    "# Demo: goodtables\n",
    "\n",
    "Some demonstration code showing features of goodtables."
   ]
  },
  {
   "cell_type": "code",
   "execution_count": 21,
   "metadata": {
    "collapsed": false,
    "deletable": true,
    "editable": true
   },
   "outputs": [
    {
     "data": {
      "text/plain": [
       "{'error-count': 7,\n",
       " 'errors': [],\n",
       " 'table-count': 1,\n",
       " 'tables': [{'error-count': 7,\n",
       "   'errors': [{'code': 'blank-header',\n",
       "     'column-number': 3,\n",
       "     'message': 'Header in column 3 is blank',\n",
       "     'row': None,\n",
       "     'row-number': None},\n",
       "    {'code': 'duplicate-header',\n",
       "     'column-number': 4,\n",
       "     'message': 'Header in column 4 is duplicated to header in column(s) 2',\n",
       "     'row': None,\n",
       "     'row-number': None},\n",
       "    {'code': 'missing-value',\n",
       "     'column-number': 3,\n",
       "     'message': 'Row 2 has a missing value in column 3',\n",
       "     'row': ['1', 'english'],\n",
       "     'row-number': 2},\n",
       "    {'code': 'missing-value',\n",
       "     'column-number': 4,\n",
       "     'message': 'Row 2 has a missing value in column 4',\n",
       "     'row': ['1', 'english'],\n",
       "     'row-number': 2},\n",
       "    {'code': 'duplicate-row',\n",
       "     'column-number': None,\n",
       "     'message': 'Row 3 is duplicated to row(s) 2',\n",
       "     'row': ['1', 'english'],\n",
       "     'row-number': 3},\n",
       "    {'code': 'blank-row',\n",
       "     'column-number': None,\n",
       "     'message': 'Row 4 is completely blank',\n",
       "     'row': [],\n",
       "     'row-number': 4},\n",
       "    {'code': 'extra-value',\n",
       "     'column-number': 5,\n",
       "     'message': 'Row 5 has an extra value in column 5',\n",
       "     'row': ['2', 'german', '1', '2', '3'],\n",
       "     'row-number': 5}],\n",
       "   'headers': ['id', 'name', '', 'name'],\n",
       "   'row-count': 5,\n",
       "   'source': 'data/invalid.csv',\n",
       "   'time': 0.001,\n",
       "   'valid': False}],\n",
       " 'time': 0.004,\n",
       " 'valid': False}"
      ]
     },
     "execution_count": 21,
     "metadata": {},
     "output_type": "execute_result"
    }
   ],
   "source": [
    "import goodtables\n",
    "\n",
    "inspector = goodtables.Inspector()\n",
    "inspector.inspect('data/invalid.csv')"
   ]
  },
  {
   "cell_type": "code",
   "execution_count": 22,
   "metadata": {
    "collapsed": false,
    "deletable": true,
    "editable": true
   },
   "outputs": [
    {
     "data": {
      "text/plain": [
       "{'error-count': 3,\n",
       " 'errors': [],\n",
       " 'table-count': 1,\n",
       " 'tables': [{'error-count': 3,\n",
       "   'errors': [{'code': 'duplicate-row',\n",
       "     'column-number': None,\n",
       "     'message': 'Row 3 is duplicated to row(s) 2',\n",
       "     'row': ['1', 'english'],\n",
       "     'row-number': 3},\n",
       "    {'code': 'blank-row',\n",
       "     'column-number': None,\n",
       "     'message': 'Row 4 is completely blank',\n",
       "     'row': [],\n",
       "     'row-number': 4},\n",
       "    {'code': 'extra-value',\n",
       "     'column-number': 5,\n",
       "     'message': 'Row 5 has an extra value in column 5',\n",
       "     'row': ['2', 'german', '1', '2', '3'],\n",
       "     'row-number': 5}],\n",
       "   'headers': ['id', 'name', '', 'name'],\n",
       "   'row-count': 5,\n",
       "   'source': 'data/invalid.csv',\n",
       "   'time': 0.002,\n",
       "   'valid': False}],\n",
       " 'time': 0.007,\n",
       " 'valid': False}"
      ]
     },
     "execution_count": 22,
     "metadata": {},
     "output_type": "execute_result"
    }
   ],
   "source": [
    "# We can customize our inspector\n",
    "inspector = goodtables.Inspector(checks={\n",
    "    'duplicate-header': False,\n",
    "    'extra-header': False,\n",
    "    'missing-value': False,\n",
    "    'blank-header': False\n",
    "})\n",
    "inspector.inspect('data/invalid.csv')"
   ]
  },
  {
   "cell_type": "code",
   "execution_count": 23,
   "metadata": {
    "collapsed": false,
    "deletable": true,
    "editable": true,
    "scrolled": true
   },
   "outputs": [
    {
     "data": {
      "text/plain": [
       "(0, 2)"
      ]
     },
     "execution_count": 23,
     "metadata": {},
     "output_type": "execute_result"
    }
   ],
   "source": [
    "# We can also inspect all Data Resources in a Data Package\n",
    "inspector = goodtables.Inspector()\n",
    "result = inspector.inspect('data/israel-muni/datapackage.json', preset='datapackage')\n",
    "\n",
    "result['error-count'], result['table-count']"
   ]
  },
  {
   "cell_type": "markdown",
   "metadata": {
    "deletable": true,
    "editable": true
   },
   "source": [
    "goodtables also has a command line interface\n",
    "\n",
    "`goodtables table data/israel-muni/tel-aviv-2013.csv`\n",
    "`goodtables datapackage data/israel-muni/datapackage.json`"
   ]
  },
  {
   "cell_type": "code",
   "execution_count": 24,
   "metadata": {
    "collapsed": false,
    "deletable": true,
    "editable": true
   },
   "outputs": [
    {
     "name": "stdout",
     "output_type": "stream",
     "text": [
      "Usage: goodtables [OPTIONS] COMMAND [ARGS]...\n",
      "\n",
      "Options:\n",
      "  --checks TEXT\n",
      "  --error-limit INTEGER\n",
      "  --table-limit INTEGER\n",
      "  --row-limit INTEGER\n",
      "  --infer-schema\n",
      "  --infer-fields\n",
      "  --order-fields\n",
      "  --json\n",
      "  --help                 Show this message and exit.\n",
      "\n",
      "Commands:\n",
      "  datapackage\n",
      "  table\n"
     ]
    }
   ],
   "source": [
    "%%bash\n",
    "goodtables"
   ]
  },
  {
   "cell_type": "markdown",
   "metadata": {
    "collapsed": true,
    "deletable": true,
    "editable": true
   },
   "source": [
    "# Demo: Data Package Pipelines\n",
    "\n",
    "Some demonstration code using Data Package Pipelines."
   ]
  },
  {
   "cell_type": "code",
   "execution_count": null,
   "metadata": {
    "collapsed": true,
    "deletable": true,
    "editable": true
   },
   "outputs": [],
   "source": []
  }
 ],
 "metadata": {
  "kernelspec": {
   "display_name": "Python 3",
   "language": "python",
   "name": "python3"
  },
  "language_info": {
   "codemirror_mode": {
    "name": "ipython",
    "version": 3
   },
   "file_extension": ".py",
   "mimetype": "text/x-python",
   "name": "python",
   "nbconvert_exporter": "python",
   "pygments_lexer": "ipython3",
   "version": "3.6.0"
  }
 },
 "nbformat": 4,
 "nbformat_minor": 2
}
